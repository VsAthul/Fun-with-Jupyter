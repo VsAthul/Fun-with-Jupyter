{
 "cells": [
  {
   "cell_type": "markdown",
   "id": "a5e9b837-0a49-48c9-9ab0-ffb305561925",
   "metadata": {},
   "source": [
    "<h1>Data Science Tools and Ecosystem</h1>"
   ]
  },
  {
   "cell_type": "markdown",
   "id": "95b2a5a6-200a-4f6a-b3a7-60f24320d708",
   "metadata": {},
   "source": [
    "In this notebook, Data Science Tools and Ecosystem are summarized.\n",
    "\n"
   ]
  },
  {
   "cell_type": "markdown",
   "id": "04fce73d-1cdf-44c0-8d76-7c274ab43a0c",
   "metadata": {},
   "source": [
    "<b>Objectives:</b>\n",
    "<ul >\n",
    "    <li>List popular languages for Data Science</li>\n",
    "    <li>commonly used libraries used by Data Scientists</li>\n",
    "    <li>Data Science Tools</li>\n",
    "    <li>few examples of evaluating arithmetic expressions in Python</li>\n",
    "</ul>"
   ]
  },
  {
   "cell_type": "markdown",
   "id": "a77b67ec-4b8a-4190-aef1-bf0c92bc77f7",
   "metadata": {},
   "source": [
    "<h2>Author</h2>\n",
    "ATHUL V.S"
   ]
  },
  {
   "cell_type": "markdown",
   "id": "4a5e3401-592a-4dd4-9d72-8e322f463cb0",
   "metadata": {},
   "source": [
    "Some of the popular languages that Data Scientists use are:\n"
   ]
  },
  {
   "cell_type": "markdown",
   "id": "b2ef43d2-05ef-4c9b-9a5a-a0a4458257c5",
   "metadata": {},
   "source": [
    "<ol>\n",
    "    <li>Python</li>\n",
    "    <li>R</li>\n",
    "    <li>Sql</li>\n",
    "</ol>"
   ]
  },
  {
   "cell_type": "markdown",
   "id": "2a176da8-bc02-409d-b65e-335820da841d",
   "metadata": {},
   "source": [
    "Some of the commonly used libraries used by Data Scientists include:\n",
    "<ol>\n",
    "    <li>Numpy </li>\n",
    "    <li>Pandas </li>\n",
    "    <li>Matplotlib </li>\n",
    "    <li>Scikit </li>\n",
    "\n",
    "</ol>"
   ]
  },
  {
   "cell_type": "markdown",
   "id": "74370ebe-63db-49af-8829-bff9ab8a97cc",
   "metadata": {},
   "source": [
    "<table align=\"left\">\n",
    "    <tr>\n",
    "    <th>Data Science Tools</th>\n",
    "    </tr>\n",
    "    <tr>\n",
    "    <td>Jupyter Notebook</td>\n",
    "    </tr>\n",
    "    <tr>\n",
    "    <td>RStudio</td>\n",
    "    </tr>\n",
    "    <tr>\n",
    "    <td>VS Code</td></tr>\n",
    "</table>"
   ]
  },
  {
   "cell_type": "markdown",
   "id": "e0b38aef-84e1-4821-9ddc-fd3fc2a3203d",
   "metadata": {},
   "source": [
    "<h3>Below are a few examples of evaluating arithmetic expressions in Python\n",
    "</h3>"
   ]
  },
  {
   "cell_type": "code",
   "execution_count": 4,
   "id": "7cf2a871-e522-41ad-9487-d265cb010799",
   "metadata": {},
   "outputs": [
    {
     "data": {
      "text/plain": [
       "17"
      ]
     },
     "execution_count": 4,
     "metadata": {},
     "output_type": "execute_result"
    }
   ],
   "source": [
    "#This a simple arithmetic expression to mutiply then add integers\n",
    "(3*4)+5"
   ]
  },
  {
   "cell_type": "code",
   "execution_count": 5,
   "id": "ec7d5dd3-3911-4781-966b-6d678549a35e",
   "metadata": {},
   "outputs": [
    {
     "data": {
      "text/plain": [
       "3.3333333333333335"
      ]
     },
     "execution_count": 5,
     "metadata": {},
     "output_type": "execute_result"
    }
   ],
   "source": [
    "#his will convert 200 minutes to hours by diving by 60\n",
    "(200/60)"
   ]
  }
 ],
 "metadata": {
  "kernelspec": {
   "display_name": "Python 3 (ipykernel)",
   "language": "python",
   "name": "python3"
  },
  "language_info": {
   "codemirror_mode": {
    "name": "ipython",
    "version": 3
   },
   "file_extension": ".py",
   "mimetype": "text/x-python",
   "name": "python",
   "nbconvert_exporter": "python",
   "pygments_lexer": "ipython3",
   "version": "3.13.5"
  }
 },
 "nbformat": 4,
 "nbformat_minor": 5
}
